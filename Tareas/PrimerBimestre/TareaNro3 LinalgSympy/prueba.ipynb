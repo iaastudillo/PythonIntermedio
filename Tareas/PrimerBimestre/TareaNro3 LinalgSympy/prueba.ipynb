{
 "cells": [
  {
   "cell_type": "markdown",
   "metadata": {},
   "source": [
    "# Tarea Nro. 3 - LinAlg + Sympy"
   ]
  },
  {
   "cell_type": "markdown",
   "metadata": {},
   "source": [
    "- Nombre y apellido: Ivo Andrés Astudillo\n",
    "- Fecha:             26 de Noviembre de 2020  "
   ]
  },
  {
   "cell_type": "markdown",
   "metadata": {},
   "source": [
    "### Producto punto"
   ]
  },
  {
   "cell_type": "code",
   "execution_count": 3,
   "metadata": {},
   "outputs": [],
   "source": [
    "#from IPython.display import Image\n",
    "#Image(filename='img/Tabla9.4.png')"
   ]
  },
  {
   "source": [
    "![](prueba_files/prueba_3_0.png)"
   ],
   "cell_type": "markdown",
   "metadata": {}
  },
  {
   "source": [
    "5. La capacidad calorífica C<sub>p</sub> de un gas se puede modelar con la ecuación empírica\n",
    "\n",
    "\\begin{equation}\n",
    "C_p = a + bT + cT^2+dT^3\n",
    "\\end{equation}\n",
    "\n",
    "donde a, b, c y d son constantes empíricas y T es la temperatura en grados Kelvin. El cambio en entalpía (una medida de energía) conforme el gas se caliente de T 2  es la integral de esta ecuación con respecto a T:\n",
    "\n",
    "\\begin{equation}\n",
    "\\bigtriangleup h = \\int_{T_{1}}^{T_{2}} C_{p}dT \\,dx\n",
    "\\end{equation}"
   ],
   "cell_type": "markdown",
   "metadata": {}
  }
 ],
 "metadata": {
  "kernelspec": {
   "name": "python3",
   "display_name": "Python 3.8.3 64-bit",
   "metadata": {
    "interpreter": {
     "hash": "e9a22ed291a3ade9d2359337fb7a65ec797571353fa799ee3f73c34057d78f4c"
    }
   }
  },
  "language_info": {
   "codemirror_mode": {
    "name": "ipython",
    "version": 3
   },
   "file_extension": ".py",
   "mimetype": "text/x-python",
   "name": "python",
   "nbconvert_exporter": "python",
   "pygments_lexer": "ipython3",
   "version": "3.8.3-final"
  }
 },
 "nbformat": 4,
 "nbformat_minor": 4
}