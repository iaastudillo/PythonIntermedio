{
 "cells": [
  {
   "cell_type": "markdown",
   "metadata": {},
   "source": [
    "**Tarea Nro. 3 - LinAlg + Sympy**"
   ]
  },
  {
   "cell_type": "markdown",
   "metadata": {},
   "source": [
    "- Nombre y apellido: Ivo Andrés Astudillo\n",
    "- Fecha: 7 de diciembre de 2020  "
   ]
  },
  {
   "cell_type": "markdown",
   "metadata": {},
   "source": [
    "# Producto punto\n",
    "\n",
    "## Use un producto punto y la lista de compras de la tabla 9.4 para determinar su cuenta total en la tienda.\n",
    "\n",
    "![](LinAlgSympy_files/Tabla9.4.png)"
   ]
  },
  {
   "cell_type": "code",
   "execution_count": 32,
   "metadata": {},
   "outputs": [],
   "source": [
    "import numpy as np"
   ]
  },
  {
   "cell_type": "code",
   "execution_count": 33,
   "metadata": {},
   "outputs": [
    {
     "output_type": "stream",
     "name": "stdout",
     "text": [
      "Cuenta total: 27.65\n"
     ]
    }
   ],
   "source": [
    "articulo = np.array([2, 1, 2, 5, 1])\n",
    "costo = np.array([3.50, 1.25, 4.25, 1.55, 3.15])\n",
    "print(\"Cuenta total:\", np.dot(articulo, costo))"
   ]
  },
  {
   "cell_type": "markdown",
   "metadata": {},
   "source": [
    "# Multiplicación matricial\n",
    "\n",
    "## Con un calorímetro de bomba se realizó una serie de experimentos. En cada experimento se usó una cantidad diferente de agua. Calcule la capacidad calorífica total para el calorímetro en cada uno de los experimentos, mediante multiplicación matricial, los datos de la tabla 9.8 y la información acerca de la capacidad calorífica que sigue a la tabla.\n",
    "\n",
    "![](LinAlgSympy_files/Tabla9.8_1.png)\n",
    "<br><br>\n",
    "![](LinAlgSympy_files/Tabla9.8_2.png)\n"
   ]
  },
  {
   "cell_type": "code",
   "execution_count": 34,
   "metadata": {},
   "outputs": [
    {
     "output_type": "stream",
     "name": "stdout",
     "text": [
      "Capacidad calórica del experimento 1 = 583.5\nCapacidad calórica del experimento 2 = 541.5\nCapacidad calórica del experimento 3 = 545.7\nCapacidad calórica del experimento 4 = 535.62\nCapacidad calórica del experimento 5 = 538.98\n"
     ]
    }
   ],
   "source": [
    "bomba = np.array([\n",
    "    [110, 250, 10],\n",
    "    [100, 250, 10],\n",
    "    [101, 250, 10],\n",
    "    [98.6, 250, 10],\n",
    "    [99.4, 250, 10]\n",
    "]).reshape(5, 3)\n",
    "\n",
    "capacidad_calorica = np.array([4.2, 0.45, 0.90]).reshape(3, 1)\n",
    "\n",
    "capacidad_calorica_total = np.dot(bomba, capacidad_calorica)\n",
    "\n",
    "i=1\n",
    "for c in capacidad_calorica_total:\n",
    "    print(f'Capacidad calórica del experimento {i} = {float(c)}')\n",
    "    i+=1"
   ]
  },
  {
   "cell_type": "markdown",
   "metadata": {},
   "source": [
    "# Determinantes e inversos\n",
    "\n",
    "## Recuerde que no todas las matrices tienen inverso. Una matriz es singular (es decir: no tiene inverso) si su determinante es igual a 0 (es decir, |A| = 0). Use la función determinante para probar si cada una de las siguientes matrices tiene inverso:\n",
    "\n",
    "![](LinAlgSympy_files/Matrices9.14.png)\n",
    "\n",
    "Si existe un inverso, calcúlelo."
   ]
  },
  {
   "cell_type": "code",
   "execution_count": 35,
   "metadata": {},
   "outputs": [
    {
     "output_type": "stream",
     "name": "stdout",
     "text": [
      "El determinante de la matriz A es: 14.000000000000004\nEl inverso de la matriz A es:\n[[ 0.35714286  0.07142857]\n [-0.28571429  0.14285714]]\n\n\nEl determinante de la matriz B es: 0.0 por lo tanto no tiene inverso.\n\n\nEl determinante de la matriz C es: -15.999999999999998\nEl inverso de la matriz C es:\n[[ 0.5    0.     0.   ]\n [-0.625 -0.     0.25 ]\n [ 0.375  0.5   -0.25 ]]\n\n\n"
     ]
    }
   ],
   "source": [
    "def detInv(m, nombre):\n",
    "    det = np.linalg.det(m)\n",
    "    if det != 0:\n",
    "        inv = np.linalg.inv(m)\n",
    "        print(f'El determinante de la matriz {nombre} es: {det}')\n",
    "        print(f'El inverso de la matriz {nombre} es:')\n",
    "        print(inv)\n",
    "        print('\\n')\n",
    "    else:\n",
    "        print(f'El determinante de la matriz {nombre} es: {det} por lo tanto no tiene inverso.')\n",
    "        print('\\n')\n",
    "\n",
    "\n",
    "A = np.array([\n",
    "    [2, -1],\n",
    "    [4, 5]\n",
    "]).reshape(2,2)\n",
    "\n",
    "B = np.array([\n",
    "    [4, 2],\n",
    "    [2, 1]\n",
    "]).reshape(2,2)\n",
    "\n",
    "\n",
    "C = np.array([\n",
    "    [2, 0, 0],\n",
    "    [1, 2, 2],\n",
    "    [5, 4, 0]\n",
    "]).reshape(3, 3)\n",
    "\n",
    "detInv(A, 'A')\n",
    "detInv(B, 'B')\n",
    "detInv(C, 'C')"
   ]
  },
  {
   "cell_type": "markdown",
   "metadata": {},
   "source": [
    "# Resolución de sistemas ecuaciones lineales\n",
    "\n",
    "## Resuelva el siguiente sistema de ecuaciones\n",
    "\n",
    "![](LinAlgSympy_files/SistemaEcuaciones9.19.png)"
   ]
  },
  {
   "cell_type": "code",
   "execution_count": 36,
   "metadata": {},
   "outputs": [
    {
     "output_type": "stream",
     "name": "stdout",
     "text": [
      "Solución del sistema de ecuaciones:\n\n[[-0.18899493]\n [ 2.54589061]\n [-3.28057396]\n [-6.75778176]\n [ 1.32124449]\n [ 4.31944831]\n [ 0.62940585]]\n"
     ]
    }
   ],
   "source": [
    "M = np.array([\n",
    "    [3, 4, 2, -1, 1, 7, 1],\n",
    "    [2, -2, 3, -4, 5, 2, 8],\n",
    "    [1, 2, 3, 1, 2, 4, 6],\n",
    "    [5, 10, 4, 3, 9, -2, 1],\n",
    "    [3, 2, -2, -4, -5, -6, 7],\n",
    "    [-2, 9, 1, 3, -3, 5, 1],\n",
    "    [1, -2, -8, 4, 2, 4, 5],\n",
    "]).reshape(7, 7)\n",
    "\n",
    "res = np.array([42, 32, 12, -5, 10, 18, 17]).reshape(7, 1)\n",
    "\n",
    "print('Solución del sistema de ecuaciones:\\n')\n",
    "print(np.linalg.solve(M, res))"
   ]
  },
  {
   "cell_type": "markdown",
   "metadata": {},
   "source": [
    "# Cálculo\n",
    "\n",
    "La capacidad calorífica C<sub>p</sub> de un gas se puede modelar con la ecuación empírica\n",
    "\n",
    "\\begin{equation}\n",
    "C_p = a + bT + cT^2+dT^3\n",
    "\\end{equation}\n",
    "\n",
    "donde a, b, c y d son constantes empíricas y T es la temperatura en grados Kelvin. El cambio en entalpía (una medida de energía) conforme el gas se caliente de T 2  es la integral de esta ecuación con respecto a T:\n",
    "\n",
    "\\begin{equation}\n",
    "\\bigtriangleup h = \\int_{T_{1}}^{T_{2}} C_{p}\\,dT\n",
    "\\end{equation}\n",
    "\n",
    "## Encuentre el cambio en entalpía del oxígeno gaseoso conforme se calienta de 300 K a 1000 K. Los valores de a, b, c y d para el oxígeno son\n",
    "\n",
    "\n",
    "\\begin{equation} \n",
    "\\begin{split}\n",
    "a & = 25.48 \\\\\n",
    "b & = 1.520 x 10^{-2} \\\\\n",
    "c & = -0.7155 x 10^{-5} \\\\\n",
    "d & = 1.312 x 10^{-9}\n",
    "\\end{split}\n",
    "\\end{equation}\n"
   ]
  },
  {
   "cell_type": "code",
   "execution_count": 51,
   "metadata": {},
   "outputs": [],
   "source": [
    "a, b, c, d, C_p, T, T_1, T_2, h = sp.symbols('a b c d C_p T T_1 T_2 h')"
   ]
  },
  {
   "cell_type": "code",
   "execution_count": 52,
   "metadata": {},
   "outputs": [],
   "source": [
    "a = 25.480\n",
    "b = 1.52 * (10**-2)\n",
    "c = -0.7155 * (10**-5)\n",
    "d = 1.312 * (10**-9)\n",
    "T_1 = 300\n",
    "T_2 = 1000"
   ]
  },
  {
   "cell_type": "code",
   "execution_count": 53,
   "metadata": {},
   "outputs": [
    {
     "output_type": "execute_result",
     "data": {
      "text/plain": [
       "34.836999999999996"
      ]
     },
     "metadata": {},
     "execution_count": 53
    }
   ],
   "source": [
    "C_p = a + b*(T_2) + c*(T_2**2) + d*(T_2**3)\n",
    "C_p"
   ]
  },
  {
   "cell_type": "code",
   "execution_count": 55,
   "metadata": {},
   "outputs": [
    {
     "output_type": "execute_result",
     "data": {
      "text/plain": [
       "Integral(34.837, (T, 300, 1000))"
      ],
      "text/latex": "$\\displaystyle \\int\\limits_{300}^{1000} 34.837\\, dT$"
     },
     "metadata": {},
     "execution_count": 55
    }
   ],
   "source": [
    "h = sp.Integral(C_p, (T, T_1, T_2))\n",
    "h"
   ]
  },
  {
   "cell_type": "code",
   "execution_count": 57,
   "metadata": {},
   "outputs": [
    {
     "output_type": "execute_result",
     "data": {
      "text/plain": [
       "24385.9000000000"
      ],
      "text/latex": "$\\displaystyle 24385.9$"
     },
     "metadata": {},
     "execution_count": 57
    }
   ],
   "source": [
    "h.doit()"
   ]
  }
 ],
 "metadata": {
  "kernelspec": {
   "name": "python3",
   "display_name": "Python 3.8.3 64-bit",
   "metadata": {
    "interpreter": {
     "hash": "e9a22ed291a3ade9d2359337fb7a65ec797571353fa799ee3f73c34057d78f4c"
    }
   }
  },
  "language_info": {
   "codemirror_mode": {
    "name": "ipython",
    "version": 3
   },
   "file_extension": ".py",
   "mimetype": "text/x-python",
   "name": "python",
   "nbconvert_exporter": "python",
   "pygments_lexer": "ipython3",
   "version": "3.8.3-final"
  }
 },
 "nbformat": 4,
 "nbformat_minor": 4
}